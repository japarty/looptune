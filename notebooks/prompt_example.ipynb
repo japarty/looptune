{
 "cells": [
  {
   "cell_type": "code",
   "execution_count": 1,
   "id": "b184a2a1-f334-4e65-8c8e-a456ac4d0ce1",
   "metadata": {},
   "outputs": [],
   "source": [
    "!pip install -q -e ../."
   ]
  },
  {
   "cell_type": "code",
   "execution_count": 2,
   "id": "initial_id",
   "metadata": {},
   "outputs": [],
   "source": [
    "import pandas as pd\n",
    "import openai\n",
    "from looptune import df_to_ds, balance_dataset,split_ds, looped_prompt_classification, load_PolarIs, get_response"
   ]
  },
  {
   "cell_type": "code",
   "execution_count": 58,
   "id": "3eb5f4a8-43d2-49b0-98c4-87b4e0fa3dd1",
   "metadata": {},
   "outputs": [],
   "source": [
    "# Local (host via LM studio, default url and api)\n",
    "client = openai.OpenAI(base_url='http://localhost:1234/v1',  api_key='lm-studio')\n",
    "model = 'model-local' #model name will be extracted via api, as there will be only one, if multimodel sessions are used, pass proper model name (multimodel is untested)\n",
    "\n",
    "#Openai\n",
    "# client = openai.OpenAI(base_url='https://api.openai.com/v1/',  api_key=input(\"provide OpenAI api key\"))\n",
    "# model = 'gpt-4o-2024-05-13'\n",
    "\n",
    "def create_messages(text='_'):\n",
    "    return [\n",
    "        {\n",
    "            'role': 'system',\n",
    "             'content': \"\"\"You are an analytical tool designed to identify emotions in texts. Your task is to analyze text provided for emotions. The only responses to consider are: POSITIVE, NEGATIVE, NEUTRAL.\n",
    "             \n",
    "             Do not infer emotions not explicitly stated in the text, and do not identify emotion types unspecified.\"\"\"\n",
    "        },\n",
    "        {\n",
    "            \"role\": \"assistant\",\n",
    "            \"content\": \"Based on the analysis, can uyou find emotions in the text? If so, identify only one of: POSITIVE, NEGATIVE, NEUTRAL. Do not identify emotions not listed.\"\n",
    "        },\n",
    "        {\n",
    "            \"role\": \"user\",\n",
    "            \"content\": f\"\"\"Analyze the following text for emotions: {text}\"\"\"\n",
    "        },\n",
    "    ]\n",
    "\n",
    "par = {'temperature': 0.1,\n",
    "       'max_tokens': 50,\n",
    "       }"
   ]
  },
  {
   "cell_type": "code",
   "execution_count": 57,
   "id": "f0fa173e-0682-4b73-b6a3-262a896692dd",
   "metadata": {},
   "outputs": [],
   "source": [
    "#get single response\n",
    "\n",
    "response = get_response(create_messages(\"I am so happy to join your newest venture\"), par, client, model)\n",
    "response"
   ]
  },
  {
   "cell_type": "code",
   "execution_count": 3,
   "id": "2486aa08-07c9-4f80-8b1c-aa5058d7032c",
   "metadata": {},
   "outputs": [
    {
     "name": "stdout",
     "output_type": "stream",
     "text": [
      "          text\n",
      "label         \n",
      "negative   604\n",
      "neutral   2879\n",
      "positive  1363\n"
     ]
    },
    {
     "data": {
      "application/vnd.jupyter.widget-view+json": {
       "model_id": "2495b8740ea64263933e725da05e8d19",
       "version_major": 2,
       "version_minor": 0
      },
      "text/plain": [
       "Casting to class labels:   0%|          | 0/4846 [00:00<?, ? examples/s]"
      ]
     },
     "metadata": {},
     "output_type": "display_data"
    },
    {
     "data": {
      "application/vnd.jupyter.widget-view+json": {
       "model_id": "817bbe387300408488ea0974e7cbd243",
       "version_major": 2,
       "version_minor": 0
      },
      "text/plain": [
       "Casting the dataset:   0%|          | 0/1812 [00:00<?, ? examples/s]"
      ]
     },
     "metadata": {},
     "output_type": "display_data"
    },
    {
     "data": {
      "text/plain": [
       "Dataset({\n",
       "    features: ['label', 'text'],\n",
       "    num_rows: 1812\n",
       "})"
      ]
     },
     "execution_count": 3,
     "metadata": {},
     "output_type": "execute_result"
    }
   ],
   "source": [
    "# run in loop with \n",
    "df = pd.read_csv('example_data/SentimentAnalysisforFinancialNews.csv', encoding=\"ISO-8859-1\", header=None)\n",
    "df.columns = ['label', 'text']\n",
    "df.head(5)\n",
    "\n",
    "\n",
    "dataset, target_map = df_to_ds(df)\n",
    "# dataset = split_ds(dataset, train_size=0.7)\n",
    "dataset = balance_dataset(dataset)\n",
    "dataset"
   ]
  },
  {
   "cell_type": "code",
   "execution_count": 59,
   "id": "23cb13464c40238b",
   "metadata": {},
   "outputs": [],
   "source": [
    "\n",
    "\n",
    "reversed_target_map = {v:k for k,v in target_map.items()}\n",
    "\n",
    "val_txts, val_labels = dataset['text'], dataset['label']\n",
    "\n",
    "looped_prompt_classification(val_txts[:100], \n",
    "              val_labels[:100], \n",
    "              model, \n",
    "              par, \n",
    "              client, \n",
    "              create_messages, \n",
    "              # output_path='reponses.csv', # if empty or doesn't end with '.csv' (for example dir path), basic filename will be created\n",
    "              # prompt_log='prompt_log.csv') # if empty or doesn't end with '.csv' (for example dir path), basic filename will be created\n",
    "                            )"
   ]
  }
 ],
 "metadata": {
  "kernelspec": {
   "display_name": "Python 3 (ipykernel)",
   "language": "python",
   "name": "python3"
  },
  "language_info": {
   "codemirror_mode": {
    "name": "ipython",
    "version": 3
   },
   "file_extension": ".py",
   "mimetype": "text/x-python",
   "name": "python",
   "nbconvert_exporter": "python",
   "pygments_lexer": "ipython3",
   "version": "3.11.9"
  }
 },
 "nbformat": 4,
 "nbformat_minor": 5
}
